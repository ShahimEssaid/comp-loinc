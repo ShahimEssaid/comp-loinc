{
 "cells": [
  {
   "cell_type": "code",
   "execution_count": 3,
   "id": "3a585651",
   "metadata": {},
   "outputs": [
    {
     "name": "stderr",
     "output_type": "stream",
     "text": [
      "IOPub data rate exceeded.\n",
      "The notebook server will temporarily stop sending output\n",
      "to the client in order to avoid crashing it.\n",
      "To change this limit, set the config variable\n",
      "`--NotebookApp.iopub_data_rate_limit`.\n",
      "\n",
      "Current values:\n",
      "NotebookApp.iopub_data_rate_limit=1000000.0 (bytes/sec)\n",
      "NotebookApp.rate_limit_window=3.0 (secs)\n",
      "\n"
     ]
    }
   ],
   "source": [
    "from linkml_runtime.dumpers import json_dumper\n",
    "#import python dataclasses generated from schema\n",
    "from loincinfo import Container, LOINC, Part, PartType\n",
    "import pandas as pd\n",
    "import numpy as np\n",
    "\n",
    "#import data and load LPL271 sheet into a pandas dataframe\n",
    "LPL271 = pd.read_excel('/Users/victoria/Documents/GitHub/comp-loinc/linkml/Hierarchy_and_LPL_data.xlsx', \n",
    "                       sheet_name='LPL271')\n",
    "\n",
    "#Rename columns with blank spaces, underscores, and brackets since itertuples are column name sensitive\n",
    "LPL271_format = LPL271.rename(columns={ 'PART_NUM (PartCode)' : 'PartCode', 'PART (PartName)' : 'PartName', \n",
    "            'TYPE (PartTypeCode)' : 'PartTypeCode', 'NAME (PartTypeName)' : 'PartTypeName',\n",
    "           'LOINC_NUM (LOINCCode)' : 'LOINCCode', 'LONG_COMMON_NAME (LOINC_NAME)': 'LOINCName'})\n",
    "#Assign unique id for each unique row\n",
    "LPL271_format['LOINCId'] =  LPL271_format.groupby(['LOINCCode','LOINCName', 'PartCode', 'PartName', \n",
    "                                                   'PartTypeCode', 'PartTypeName'], \n",
    "                                                  sort=False).ngroup().apply('{:010}'.format)\n",
    "#Format LOINCid column to LOINC(id_prefixes:https://loinc.org/):LOINC_0000000000\n",
    "LPL271_format['LOINCId'] = 'LOINC:LOINC_' + LPL271_format['LOINCId'].astype(str)\n",
    "\n",
    "#Create an empty list, ingest data using schema, append each row to empty list\n",
    "loincdata=[]\n",
    "for row in LPL271_format.itertuples(index=False):\n",
    "    data = LOINC(LOINCId = row.LOINCId, LOINCCode = row.LOINCCode, LOINCName = row.LOINCName, \n",
    "     has_part=[Part(PartCode = row.PartCode, PartName = row.PartName, \n",
    "     part_type=[PartType(PartTypeCode = row.PartTypeCode, PartTypeName = row.PartTypeName)])])\n",
    "    \n",
    "    loincdata.append(data)\n",
    "\n",
    "\n",
    "container = Container(loincdata)\n",
    "\n",
    "#write output as data.json\n",
    "with open('data.json', 'w') as f:\n",
    "  f.write(json_dumper.dumps(container))"
   ]
  },
  {
   "cell_type": "code",
   "execution_count": 4,
   "id": "e3dcf4e0",
   "metadata": {},
   "outputs": [
    {
     "name": "stdout",
     "output_type": "stream",
     "text": [
      "         PartCode              PartName  PartTypeCode      PartTypeName  \\\n",
      "0      LP173061-5             {Setting}            24  Document.Setting   \n",
      "4      LP173061-5             {Setting}            24  Document.Setting   \n",
      "8      LP173061-5             {Setting}            24  Document.Setting   \n",
      "12     LP269801-9         Social worker            26     Document.Role   \n",
      "15     LP173418-7                  Note            22     Document.Kind   \n",
      "...           ...                   ...           ...               ...   \n",
      "12354  LP173043-3  Emergency department            24  Document.Setting   \n",
      "12358  LP173043-3  Emergency department            24  Document.Setting   \n",
      "12362  LP173043-3  Emergency department            24  Document.Setting   \n",
      "12366  LP173043-3  Emergency department            24  Document.Setting   \n",
      "12370  LP173051-6            Outpatient            24  Document.Setting   \n",
      "\n",
      "      LOINCCode                                    LOINCName  \n",
      "0       28654-2            Attending Initial evaluation note  \n",
      "4       28655-9                  Attending Discharge summary  \n",
      "8       28656-7                  Social worker Progress note  \n",
      "12      28653-4                           Social worker Note  \n",
      "15      28651-8                          Nurse Transfer note  \n",
      "...         ...                                          ...  \n",
      "12354   98141-5  Emergency department Admission notification  \n",
      "12358   98142-3  Emergency department Discharge notification  \n",
      "12362   98143-1    Emergency department Arrival notification  \n",
      "12366   98144-9  Emergency department Departure notification  \n",
      "12370   98145-6                Outpatient Visit notification  \n",
      "\n",
      "[3244 rows x 6 columns]\n"
     ]
    }
   ],
   "source": [
    "from linkml_runtime.dumpers import json_dumper\n",
    "#import python dataclasses generated from schema\n",
    "from loincinfo import Container, LOINC, Part, PartType\n",
    "import pandas as pd\n",
    "import numpy as np\n",
    "\n",
    "#import data and load LPL271 sheet into a pandas dataframe\n",
    "LPL271 = pd.read_excel('/Users/victoria/Documents/GitHub/comp-loinc/linkml/Hierarchy_and_LPL_data.xlsx', \n",
    "                       sheet_name='LPL271')\n",
    "\n",
    "#Rename columns with blank spaces, underscores, and brackets since itertuples are column name sensitive\n",
    "LPL271_format = LPL271.rename(columns={ 'PART_NUM (PartCode)' : 'PartCode', 'PART (PartName)' : 'PartName', \n",
    "            'TYPE (PartTypeCode)' : 'PartTypeCode', 'NAME (PartTypeName)' : 'PartTypeName',\n",
    "           'LOINC_NUM (LOINCCode)' : 'LOINCCode', 'LONG_COMMON_NAME (LOINC_NAME)': 'LOINCName'})\n",
    "df=LPL271_format.drop_duplicates(subset=['LOINCName'])\n",
    "print(df)"
   ]
  },
  {
   "cell_type": "code",
   "execution_count": 19,
   "id": "1755d484",
   "metadata": {},
   "outputs": [],
   "source": [
    "import graphviz as gv\n",
    "import pandas as pd\n",
    "Hierarchy271 = pd.read_excel('/Users/victoria/Documents/GitHub/comp-loinc/linkml/Hierarchy_and_LPL_data.xlsx', \n",
    "                       sheet_name='Hierarchy271')\n",
    "Hierarchy271_format = Hierarchy271.rename(columns={ 'NODE_ID' : 'NodeID', 'PARENT_ID' : 'ParentID', \n",
    "            'FK_ID (PartCode)' : 'PartCode', 'PART (PartName)' : 'PartName'})\n",
    "\n",
    "g = gv.Digraph()\n",
    "\n",
    "for row in Hierarchy271_format.itertuples(index=False):\n",
    "    g.node(name=str(row.NodeID), label=row.PartName)\n",
    "\n",
    "for row in Hierarchy271_format.itertuples(index=False):\n",
    "    g.edge(str(row.NodeID), str(row.ParentID), label='is_a')"
   ]
  },
  {
   "cell_type": "code",
   "execution_count": 24,
   "id": "68d6acf3",
   "metadata": {},
   "outputs": [
    {
     "data": {
      "text/plain": [
       "'Digraph.gv.pdf'"
      ]
     },
     "execution_count": 24,
     "metadata": {},
     "output_type": "execute_result"
    }
   ],
   "source": [
    "g.render()\n"
   ]
  },
  {
   "cell_type": "code",
   "execution_count": null,
   "id": "d47b9263",
   "metadata": {},
   "outputs": [],
   "source": []
  }
 ],
 "metadata": {
  "kernelspec": {
   "display_name": "Python 3 (ipykernel)",
   "language": "python",
   "name": "python3"
  },
  "language_info": {
   "codemirror_mode": {
    "name": "ipython",
    "version": 3
   },
   "file_extension": ".py",
   "mimetype": "text/x-python",
   "name": "python",
   "nbconvert_exporter": "python",
   "pygments_lexer": "ipython3",
   "version": "3.9.9"
  }
 },
 "nbformat": 4,
 "nbformat_minor": 5
}
