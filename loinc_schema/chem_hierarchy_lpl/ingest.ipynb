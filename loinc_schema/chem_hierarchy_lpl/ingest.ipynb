{
 "cells": [
  {
   "cell_type": "code",
   "execution_count": 2,
   "id": "d8c917e0",
   "metadata": {},
   "outputs": [],
   "source": [
    "from linkml_runtime.dumpers import json_dumper\n",
    "#import python dataclasses generated from schema\n",
    "from schema import Container, LOINC, Part, PartType\n",
    "import pandas as pd\n",
    "import numpy as np\n",
    "\n",
    "#import data and load LPL271 sheet into a pandas dataframe\n",
    "LPL = pd.read_excel('/Users/victoria/Documents/GitHub/comp-loinc/loinc_schema/CHEM_HIERARCHY_LPL_DATA.xlsx', \n",
    "                       sheet_name='LPL')\n",
    "\n",
    "#Rename columns with blank spaces, underscores, and brackets since itertuples are column name sensitive\n",
    "LPL_format = LPL.rename(columns={ 'PART_NUM' : 'PartCode', 'PART' : 'PartName', \n",
    "            'TYPE' : 'PartTypeCode', 'NAME' : 'PartTypeName',\n",
    "           'LOINC_NUM' : 'LOINCCode', 'LONG_COMMON_NAME': 'LOINCName'})\n",
    "\n",
    "#Assign unique id for each unique row\n",
    "LPL_format['LOINCId'] =  LPL_format.groupby(['LOINCCode','LOINCName', 'PartCode', 'PartName', \n",
    "                                                   'PartTypeCode', 'PartTypeName'], \n",
    "                                                  sort=False).ngroup().apply('{:010}'.format)\n",
    "\n",
    "#Format LOINCid column to LOINC(id_prefixes:https://loinc.org/):LOINC_0000000000\n",
    "LPL_format['LOINCId'] = 'LOINC:LOINC_' + LPL_format['LOINCId'].astype(str)\n",
    "\n",
    "#Create an empty list, ingest data using schema, append each row to empty list\n",
    "loincdata=[]\n",
    "for row in LPL_format.itertuples(index=False):\n",
    "    data = LOINC(LOINCId = row.LOINCId, LOINCCode = row.LOINCCode, LOINCName = row.LOINCName, \n",
    "     has_part=[Part(PartCode = row.PartCode, PartName = row.PartName, \n",
    "     part_type=[PartType(PartTypeCode = row.PartTypeCode, PartTypeName = row.PartTypeName)])])\n",
    "    \n",
    "    loincdata.append(data)\n",
    "\n",
    "\n",
    "container = Container(loincdata)\n",
    "\n",
    "#write output as data.json\n",
    "with open('CHEM_HIERARCHY_DATA.json', 'w') as f:\n",
    "  f.write(json_dumper.dumps(container))"
   ]
  },
  {
   "cell_type": "code",
   "execution_count": 8,
   "id": "2664cedb",
   "metadata": {},
   "outputs": [],
   "source": [
    "import graphviz as gv\n",
    "import pandas as pd\n",
    "Hierarchy271 = pd.read_excel('/Users/victoria/Documents/GitHub/comp-loinc/loinc_schema/CHEM_HIERARCHY_LPL_DATA.xlsx', \n",
    "                       sheet_name='Hierarchy')\n",
    "Hierarchy271_format = Hierarchy271.rename(columns={ 'NODE_ID' : 'NodeID', 'PARENT_ID' : 'ParentID', \n",
    "            'FK_ID' : 'PartCode', 'PART' : 'PartName'})\n",
    "\n",
    "dfObj1 = Hierarchy271_format.head(20000)\n",
    "# dfObj1 = Hierarchy271_format.iloc[10000:20000]\n",
    "g = gv.Digraph()\n",
    "\n",
    "for row in dfObj1.itertuples(index=False):\n",
    "    g.node(name=str(row.NodeID), label=row.PartName)\n",
    "\n",
    "for row in dfObj1.itertuples(index=False):\n",
    "    g.edge(str(row.NodeID), str(row.ParentID), label='is_a')"
   ]
  },
  {
   "cell_type": "code",
   "execution_count": 9,
   "id": "d959bf4a",
   "metadata": {},
   "outputs": [
    {
     "data": {
      "text/plain": [
       "'Digraph.gv.pdf'"
      ]
     },
     "execution_count": 9,
     "metadata": {},
     "output_type": "execute_result"
    }
   ],
   "source": [
    "g.render()"
   ]
  },
  {
   "cell_type": "code",
   "execution_count": null,
   "id": "12689756",
   "metadata": {},
   "outputs": [],
   "source": []
  }
 ],
 "metadata": {
  "kernelspec": {
   "display_name": "Python 3 (ipykernel)",
   "language": "python",
   "name": "python3"
  },
  "language_info": {
   "codemirror_mode": {
    "name": "ipython",
    "version": 3
   },
   "file_extension": ".py",
   "mimetype": "text/x-python",
   "name": "python",
   "nbconvert_exporter": "python",
   "pygments_lexer": "ipython3",
   "version": "3.9.9"
  }
 },
 "nbformat": 4,
 "nbformat_minor": 5
}
